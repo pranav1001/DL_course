{
  "nbformat": 4,
  "nbformat_minor": 0,
  "metadata": {
    "colab": {
      "name": "DSA.ipynb",
      "provenance": [],
      "authorship_tag": "ABX9TyNa25w0Uz8/SL4ZLZsqJdFR",
      "include_colab_link": true
    },
    "kernelspec": {
      "name": "python3",
      "display_name": "Python 3"
    }
  },
  "cells": [
    {
      "cell_type": "markdown",
      "metadata": {
        "id": "view-in-github",
        "colab_type": "text"
      },
      "source": [
        "<a href=\"https://colab.research.google.com/github/pranav1001/DL_course/blob/master/DSA.ipynb\" target=\"_parent\"><img src=\"https://colab.research.google.com/assets/colab-badge.svg\" alt=\"Open In Colab\"/></a>"
      ]
    },
    {
      "cell_type": "markdown",
      "metadata": {
        "id": "Gub6vu0COPP3",
        "colab_type": "text"
      },
      "source": [
        "##**This Notebook is made to practice Data Structures and Algorithms **##\n",
        "Reference Coding Basics\n"
      ]
    },
    {
      "cell_type": "markdown",
      "metadata": {
        "id": "JNOlAOsEO2dN",
        "colab_type": "text"
      },
      "source": [
        "LINKED LISTS"
      ]
    },
    {
      "cell_type": "code",
      "metadata": {
        "id": "kU5Lc3blRElT",
        "colab_type": "code",
        "colab": {}
      },
      "source": [
        "\n"
      ],
      "execution_count": null,
      "outputs": []
    },
    {
      "cell_type": "code",
      "metadata": {
        "id": "P4tIgWv0RJRQ",
        "colab_type": "code",
        "colab": {
          "base_uri": "https://localhost:8080/",
          "height": 50
        },
        "outputId": "c67c12a9-5032-497b-c153-5e8acc00ac2d"
      },
      "source": [
        "class Node:\n",
        "    def __init__(self, data=None, next=None):\n",
        "        self.data = data\n",
        "        self.next = next\n",
        "\n",
        "class LinkedList:\n",
        "    def __init__(self):\n",
        "        self.head = None\n",
        "\n",
        "    def insert_at_begining(self, data):\n",
        "        node = Node(data, self.head)\n",
        "        self.head = node\n",
        "\n",
        "    def insert_at_end(self,data):\n",
        "      if self.head is None:\n",
        "        self.head= Node(data, None)\n",
        "        return\n",
        "      \n",
        "      itr= self.head\n",
        "      while itr.next:\n",
        "        itr= itr.next\n",
        "      itr.next= Node(data, None)\n",
        "\n",
        "    def insert_values(self, data_list):\n",
        "      self.head= None\n",
        "      for data in data_list:\n",
        "        self.insert_at_end(data)\n",
        "\n",
        "    def get_length(self):\n",
        "      count= 0\n",
        "      itr= self.head\n",
        "      while itr:\n",
        "        count +=1\n",
        "        itr= itr.next\n",
        "      return count\n",
        "\n",
        "    def print(self):\n",
        "        if self.head is None:\n",
        "            print(\"Linked list is empty\")\n",
        "            return\n",
        "        itr = self.head\n",
        "        llstr = ''\n",
        "        while itr:\n",
        "            llstr += str(itr.data) + ' --> '\n",
        "            itr = itr.next\n",
        "        print(llstr)\n",
        "\n",
        "\n",
        "    def Insert_at_middle(self, data, index):\n",
        "      if \n",
        "\n",
        "ll= LinkedList()\n",
        "ll.insert_at_begining(5)\n",
        "ll.insert_at_begining(80)\n",
        "ll.insert_at_begining(19)\n",
        "ll2= LinkedList()\n",
        "ll2.insert_values(['Banana','Mango','Orange'])\n",
        "ll.print()\n",
        "ll2.print()\n"
      ],
      "execution_count": null,
      "outputs": [
        {
          "output_type": "stream",
          "text": [
            "19 --> 80 --> 5 --> \n",
            "Banana --> Mango --> Orange --> \n"
          ],
          "name": "stdout"
        }
      ]
    },
    {
      "cell_type": "code",
      "metadata": {
        "id": "B5lk4ePdzb5v",
        "colab_type": "code",
        "colab": {}
      },
      "source": [
        ""
      ],
      "execution_count": null,
      "outputs": []
    },
    {
      "cell_type": "markdown",
      "metadata": {
        "id": "5NBkLp21zch3",
        "colab_type": "text"
      },
      "source": [
        "#***Hashing Implementation*** "
      ]
    },
    {
      "cell_type": "code",
      "metadata": {
        "id": "-tXiDj_qzygf",
        "colab_type": "code",
        "colab": {}
      },
      "source": [
        "#Creating a hash function\n",
        "def get_hash(key):\n",
        "  h=0 \n",
        "  for char in key:\n",
        "    h += ord(char)\n",
        "  return h % 100"
      ],
      "execution_count": null,
      "outputs": []
    },
    {
      "cell_type": "code",
      "metadata": {
        "id": "ahWEP_uFw4tJ",
        "colab_type": "code",
        "colab": {
          "base_uri": "https://localhost:8080/",
          "height": 34
        },
        "outputId": "280d63af-3494-4de7-cf17-1bae5ec66222"
      },
      "source": [
        "get_hash('march 28')"
      ],
      "execution_count": null,
      "outputs": [
        {
          "output_type": "execute_result",
          "data": {
            "text/plain": [
              "61"
            ]
          },
          "metadata": {
            "tags": []
          },
          "execution_count": 4
        }
      ]
    },
    {
      "cell_type": "code",
      "metadata": {
        "id": "x6vVoL0TxJgo",
        "colab_type": "code",
        "colab": {}
      },
      "source": [
        "#Create a Hash table class\n",
        "class HashTable:\n",
        "  def __init__(self):\n",
        "    self.MAX= 100\n",
        "    self.arr= [None for i in range(self.MAX)]\n",
        "\n",
        "  def get_hash(self,key):\n",
        "   h=0 \n",
        "   for char in key:\n",
        "      h += ord(char)\n",
        "   return h % self.MAX\n",
        "\n",
        "  def add(self, key, value):\n",
        "    h= self.get_hash(key)\n",
        "    self.arr[h]= value\n",
        "\n",
        "  def get(self, key):\n",
        "    h= self.get_hash(key)\n",
        "    return self.arr[h]\n",
        "\n"
      ],
      "execution_count": null,
      "outputs": []
    },
    {
      "cell_type": "code",
      "metadata": {
        "id": "UJbn4E15B8eU",
        "colab_type": "code",
        "colab": {
          "base_uri": "https://localhost:8080/",
          "height": 1000
        },
        "outputId": "925b01c8-9ea2-48ce-87a9-e46078f53938"
      },
      "source": [
        "t= HashTable()\n",
        "t.add('rahul', '15')\n",
        "t.get('rahul')\n",
        "t.arr"
      ],
      "execution_count": null,
      "outputs": [
        {
          "output_type": "execute_result",
          "data": {
            "text/plain": [
              "[None,\n",
              " None,\n",
              " None,\n",
              " None,\n",
              " None,\n",
              " None,\n",
              " None,\n",
              " None,\n",
              " None,\n",
              " None,\n",
              " None,\n",
              " None,\n",
              " None,\n",
              " None,\n",
              " None,\n",
              " None,\n",
              " None,\n",
              " None,\n",
              " None,\n",
              " None,\n",
              " None,\n",
              " None,\n",
              " None,\n",
              " None,\n",
              " None,\n",
              " None,\n",
              " None,\n",
              " None,\n",
              " None,\n",
              " None,\n",
              " None,\n",
              " None,\n",
              " None,\n",
              " None,\n",
              " None,\n",
              " None,\n",
              " None,\n",
              " None,\n",
              " None,\n",
              " None,\n",
              " '15',\n",
              " None,\n",
              " None,\n",
              " None,\n",
              " None,\n",
              " None,\n",
              " None,\n",
              " None,\n",
              " None,\n",
              " None,\n",
              " None,\n",
              " None,\n",
              " None,\n",
              " None,\n",
              " None,\n",
              " None,\n",
              " None,\n",
              " None,\n",
              " None,\n",
              " None,\n",
              " None,\n",
              " None,\n",
              " None,\n",
              " None,\n",
              " None,\n",
              " None,\n",
              " None,\n",
              " None,\n",
              " None,\n",
              " None,\n",
              " None,\n",
              " None,\n",
              " None,\n",
              " None,\n",
              " None,\n",
              " None,\n",
              " None,\n",
              " None,\n",
              " None,\n",
              " None,\n",
              " None,\n",
              " None,\n",
              " None,\n",
              " None,\n",
              " None,\n",
              " None,\n",
              " None,\n",
              " None,\n",
              " None,\n",
              " None,\n",
              " None,\n",
              " None,\n",
              " None,\n",
              " None,\n",
              " None,\n",
              " None,\n",
              " None,\n",
              " None,\n",
              " None,\n",
              " None]"
            ]
          },
          "metadata": {
            "tags": []
          },
          "execution_count": 9
        }
      ]
    },
    {
      "cell_type": "code",
      "metadata": {
        "id": "do59BjodVAGy",
        "colab_type": "code",
        "colab": {}
      },
      "source": [
        "class HashTable:\n",
        "  def __init__(self):\n",
        "    self.MAX= 100\n",
        "    self.arr= [None for i in range(self.MAX)]\n",
        "\n",
        "  def get_hash(self,key):\n",
        "   h=0\n",
        "   for char in key:\n",
        "      h += ord(char)\n",
        "   return h % self.MAX\n",
        "\n",
        "  def __setitem__(self, key, value):\n",
        "    h= self.get_hash(key)\n",
        "    self.arr[h]= value\n",
        "\n",
        "  def __getitem__(self, key):\n",
        "    h= self.get_hash(key)\n",
        "    return self.arr[h]\n",
        "\n",
        "  def __delitem__(self, key):\n",
        "      h= self.get_hash(key)\n",
        "      self.arr[h]= None\n",
        "\n",
        "\n",
        "\n",
        "t= HashTable()\n",
        "t['march 6']= 130\n",
        "t['march 10']= 150\n",
        "t['march 15']= 180\n",
        "print(t['march 6'])\n",
        "del t['march 6']\n",
        "print(t['march 6'])\n"
      ],
      "execution_count": null,
      "outputs": []
    },
    {
      "cell_type": "code",
      "metadata": {
        "id": "yXQnAKIjRjZu",
        "colab_type": "code",
        "colab": {}
      },
      "source": [
        "#hashing with collision\n",
        "class HashTable:  \n",
        "    def __init__(self):\n",
        "        self.MAX = 10\n",
        "        self.arr = [[] for i in range(self.MAX)]\n",
        "        \n",
        "    def get_hash(self, key):\n",
        "        hash = 0\n",
        "        for char in key:\n",
        "            hash += ord(char)\n",
        "        return hash % self.MAX\n",
        "    \n",
        "    def __getitem__(self, key):\n",
        "        arr_index = self.get_hash(key)\n",
        "        for kv in self.arr[arr_index]:\n",
        "            if kv[0] == key:\n",
        "                return kv[1]\n",
        "            \n",
        "    def __setitem__(self, key, val):\n",
        "        h = self.get_hash(key)\n",
        "        found = False\n",
        "        for idx, element in enumerate(self.arr[h]):\n",
        "            if len(element)==2 and element[0] == key:\n",
        "                self.arr[h][idx] = (key,val)\n",
        "                found = True\n",
        "        if not found:\n",
        "            self.arr[h].append((key,val))\n",
        "        \n",
        "    def __delitem__(self, key):\n",
        "        arr_index = self.get_hash(key)\n",
        "        for index, kv in enumerate(self.arr[arr_index]):\n",
        "            if kv[0] == key:\n",
        "                print(\"del\",index)\n",
        "                del self.arr[arr_index][index]"
      ],
      "execution_count": null,
      "outputs": []
    },
    {
      "cell_type": "markdown",
      "metadata": {
        "id": "zXPgW5UfkynK",
        "colab_type": "text"
      },
      "source": [
        ""
      ]
    },
    {
      "cell_type": "code",
      "metadata": {
        "id": "IANqtJfYk137",
        "colab_type": "code",
        "colab": {}
      },
      "source": [
        ""
      ],
      "execution_count": null,
      "outputs": []
    },
    {
      "cell_type": "markdown",
      "metadata": {
        "id": "Ep6Su85nk24s",
        "colab_type": "text"
      },
      "source": [
        "# **Stack**"
      ]
    },
    {
      "cell_type": "code",
      "metadata": {
        "id": "qtcTUpZClB4E",
        "colab_type": "code",
        "colab": {}
      },
      "source": [
        "'''Use class collections.deque'''\n",
        "\n",
        "from collections import deque"
      ],
      "execution_count": null,
      "outputs": []
    }
  ]
}